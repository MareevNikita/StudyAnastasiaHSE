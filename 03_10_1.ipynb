{
 "cells": [
  {
   "cell_type": "markdown",
   "metadata": {
    "id": "1w1SXvIot-mn"
   },
   "source": [
    "Разминка"
   ]
  },
  {
   "cell_type": "code",
   "execution_count": 4,
   "metadata": {
    "id": "9eSAstXAuBeh"
   },
   "outputs": [
    {
     "ename": "SyntaxError",
     "evalue": "invalid syntax (<ipython-input-4-ebdf7a0ec2a8>, line 1)",
     "output_type": "error",
     "traceback": [
      "\u001b[0;36m  File \u001b[0;32m\"<ipython-input-4-ebdf7a0ec2a8>\"\u001b[0;36m, line \u001b[0;32m1\u001b[0m\n\u001b[0;31m    Считывается строка следующего формата:\u001b[0m\n\u001b[0m                ^\u001b[0m\n\u001b[0;31mSyntaxError\u001b[0m\u001b[0;31m:\u001b[0m invalid syntax\n"
     ]
    }
   ],
   "source": [
    "Считывается строка следующего формата:\n",
    "\"*Name*Age\"\n",
    "Например\n",
    "'*Ivan*22'\n",
    "Задача - написать программу, которая будет здороваться с посетителем и выводить следующую строку \"Здравствуй, Ivan\". \n",
    "При этом если ему больше 18 - будет здороваться уважительно \n",
    "'Здравствуйте, Ivan'"
   ]
  },
  {
   "cell_type": "code",
   "execution_count": 16,
   "metadata": {},
   "outputs": [
    {
     "name": "stdout",
     "output_type": "stream",
     "text": [
      "*Ivan*22\n",
      "['', 'Ivan', '22']\n",
      "Ivan\n",
      "<class 'int'>\n",
      "Здравствуйте, Ivan\n"
     ]
    }
   ],
   "source": [
    "strr = input().split('*')\n",
    "print(strr)\n",
    "print(strr[1])\n",
    "age = int(strr[2])\n",
    "print(type(age))\n",
    "if age > 18:\n",
    "    print(f'Здравствуйте, {strr[1]}')\n",
    "else:\n",
    "    print(f'Здравствуй, {strr[1]}')"
   ]
  },
  {
   "cell_type": "markdown",
   "metadata": {
    "id": "Rs46v1YarM5e"
   },
   "source": [
    "Задачка 1"
   ]
  },
  {
   "cell_type": "code",
   "execution_count": null,
   "metadata": {
    "id": "zGfEboX5rPXD"
   },
   "outputs": [],
   "source": [
    "Данные о оценке услуг клиентов косметической компании представлены в списке. Каждый элемент маленького списка - \n",
    "это оценка какой-то очередной услуги, типа ноготочки, покраска волос и т.п. \n",
    "Количество услуг, оказанных клиентом может разниться. Сотрудника салона увольняют, \n",
    "если хотя бы один из клиентов В СРЕДНЕМ поставил x2 = 1.7 или меньше. \n",
    "Напишите функцию, которая принимает на вход список lst и пороговые значения x1 и x2 и возвращает логическую константу True, \n",
    "если сотрудника нужно уволить и False, если не нужно"
   ]
  },
  {
   "cell_type": "code",
   "execution_count": 17,
   "metadata": {
    "id": "iYn8GTFPsPyi"
   },
   "outputs": [],
   "source": [
    "a = [[1,3,5], [5,5], [1,4,5,5,5], [3]]\n",
    "def beauty(a, x1, x2):\n",
    "    for i in a:\n",
    "        x1 = sum(i) / len(i)\n",
    "        if x1 <= 1.7: #или тут x1 <= x2?\n",
    "            return True\n",
    "    return False "
   ]
  },
  {
   "cell_type": "code",
   "execution_count": null,
   "metadata": {},
   "outputs": [],
   "source": []
  },
  {
   "cell_type": "markdown",
   "metadata": {
    "id": "ao52C_RBsozO"
   },
   "source": [
    "Небольшое усложнение задачки 1\n"
   ]
  },
  {
   "cell_type": "code",
   "execution_count": null,
   "metadata": {
    "id": "OuPhfKRoszvf"
   },
   "outputs": [],
   "source": [
    "Данные о оценке услуг клиентов косметической компании представлены в списке. Каждый элемент маленького списка - \n",
    "это оценка какой-то очередной услуги, типа ноготочки, покраска волос и т.п. \n",
    "Количество услуг, оказанных клиентом может разниться. Сотрудника салона увольняют, \n",
    "если средняя оценка ХОТЯ БЫ ДВУХ клиентов не превосходит x1 = 2.5 или \n",
    "если хотя бы один из клиентов В СРЕДНЕМ поставил x2 = 1.7 или меньше. \n",
    "Напишите функцию, которая принимает на вход список lst и пороговые значения x1 и x2 и возвращает логическую константу True, \n",
    "если сотрудника нужно уволить и False, если не нужно"
   ]
  },
  {
   "cell_type": "code",
   "execution_count": null,
   "metadata": {},
   "outputs": [],
   "source": [
    "a = [[1,3,5], [5,5], [1,4,5,5,5], [3]]\n",
    "def beauty(a, x1, x2):\n",
    "    for i in a:\n",
    "        x1 = sum(i) / len(i)\n",
    "        cnt == 0\n",
    "        if x1 < 2.5:\n",
    "            cnt += 1\n",
    "            if cnt == 2:\n",
    "                return True\n",
    "        if x1 <= 1.7:\n",
    "            return True\n",
    "    return False \n",
    "            \n",
    "        "
   ]
  },
  {
   "cell_type": "code",
   "execution_count": null,
   "metadata": {
    "id": "fI9oHdNks4uC"
   },
   "outputs": [],
   "source": [
    "Задачка 2"
   ]
  },
  {
   "cell_type": "code",
   "execution_count": null,
   "metadata": {
    "id": "BvDevP08q2aG"
   },
   "outputs": [],
   "source": [
    "На входе имеем список строк разной длины. \n",
    "Необходимо написать функцию all_eq(lst), которая вернет новый список из строк одинаковой длины. \n",
    "Длину итоговой строки определяем исходя из самой большой из них. \n",
    "Если конкретная строка короче самой длинной, дополнить ее нижними подчеркиваниями с правого края до требуемого количества символов.\n",
    "Расположение элементов начального списка не менять."
   ]
  },
  {
   "cell_type": "code",
   "execution_count": null,
   "metadata": {
    "id": "fMTUxCQJrBak"
   },
   "outputs": [],
   "source": [
    "Идея решения:\n",
    "Сначала необходимо определить длину каждой строки в списке и найти максимальную. Далее дополняем символы «_» к строкам, чья длина меньше."
   ]
  },
  {
   "cell_type": "code",
   "execution_count": null,
   "metadata": {},
   "outputs": [],
   "source": [
    "spisok = list(input())\n",
    "def sp(spisok):\n",
    "    for i in spisok:\n",
    "        length = len(i)\n",
    "        maxlength = length\n",
    "        if length < maxlength:\n",
    "            maxlength = length\n",
    "        else:\n",
    "            length = maxlength\n",
    "            \n",
    "            "
   ]
  },
  {
   "cell_type": "code",
   "execution_count": 25,
   "metadata": {},
   "outputs": [
    {
     "name": "stdout",
     "output_type": "stream",
     "text": [
      "3\n",
      "2\n",
      "5\n",
      "1\n"
     ]
    },
    {
     "ename": "TypeError",
     "evalue": "'int' object is not iterable",
     "output_type": "error",
     "traceback": [
      "\u001b[0;31m---------------------------------------------------------------------------\u001b[0m",
      "\u001b[0;31mTypeError\u001b[0m                                 Traceback (most recent call last)",
      "\u001b[0;32m<ipython-input-25-2426547b786e>\u001b[0m in \u001b[0;36m<module>\u001b[0;34m\u001b[0m\n\u001b[1;32m      3\u001b[0m     \u001b[0mlength\u001b[0m \u001b[0;34m=\u001b[0m \u001b[0mlen\u001b[0m\u001b[0;34m(\u001b[0m\u001b[0mi\u001b[0m\u001b[0;34m)\u001b[0m\u001b[0;34m\u001b[0m\u001b[0;34m\u001b[0m\u001b[0m\n\u001b[1;32m      4\u001b[0m     \u001b[0mprint\u001b[0m\u001b[0;34m(\u001b[0m\u001b[0mlength\u001b[0m\u001b[0;34m)\u001b[0m\u001b[0;34m\u001b[0m\u001b[0;34m\u001b[0m\u001b[0m\n\u001b[0;32m----> 5\u001b[0;31m \u001b[0mmaxlength\u001b[0m \u001b[0;34m=\u001b[0m \u001b[0mmax\u001b[0m\u001b[0;34m(\u001b[0m\u001b[0mint\u001b[0m\u001b[0;34m(\u001b[0m\u001b[0mlength\u001b[0m\u001b[0;34m)\u001b[0m\u001b[0;34m)\u001b[0m\u001b[0;34m\u001b[0m\u001b[0;34m\u001b[0m\u001b[0m\n\u001b[0m\u001b[1;32m      6\u001b[0m \u001b[0mprint\u001b[0m\u001b[0;34m(\u001b[0m\u001b[0mmaxlength\u001b[0m\u001b[0;34m)\u001b[0m\u001b[0;34m\u001b[0m\u001b[0;34m\u001b[0m\u001b[0m\n\u001b[1;32m      7\u001b[0m \u001b[0;34m\u001b[0m\u001b[0m\n",
      "\u001b[0;31mTypeError\u001b[0m: 'int' object is not iterable"
     ]
    }
   ],
   "source": [
    "a = [[1,3,5], [5,5], [1,4,5,5,5], [3]]\n",
    "for i in a:\n",
    "    length = len(i)\n",
    "    print(length)\n",
    "maxlength = max(int(length))\n",
    "print(maxlength)\n",
    "    \n"
   ]
  },
  {
   "cell_type": "code",
   "execution_count": null,
   "metadata": {},
   "outputs": [],
   "source": [
    " maxlength = length\n",
    "    if length < maxlength:\n",
    "        maxlength = length\n",
    "    else:\n",
    "        length = maxlength\n",
    "print(maxlength)\n"
   ]
  },
  {
   "cell_type": "code",
   "execution_count": null,
   "metadata": {
    "id": "e8X7XQn3rMVK"
   },
   "outputs": [],
   "source": [
    "Задачка 3"
   ]
  },
  {
   "cell_type": "code",
   "execution_count": null,
   "metadata": {
    "id": "kVsz_HactH8p"
   },
   "outputs": [],
   "source": [
    "Про Н\n",
    "Есть в файл, в котором ПОСТРОЧНО записаны фамилии кандидатов, за которых проголосовали в рамках выборов президента страны\n",
    "Определить, кто победил и какой процент голосов он набрал от общего числа\n"
   ]
  },
  {
   "cell_type": "code",
   "execution_count": null,
   "metadata": {
    "id": "5_w8gPAgtdNi"
   },
   "outputs": [],
   "source": [
    "# считываем строки из файла в список, способ 1\n",
    "\n",
    "lines = [] # создаем пустой список\n",
    "with open('Vybory.txt', encoding='UTF-8') as infile:\n",
    "    for line in infile: # проходимся по файлу построчно\n",
    "        lines.append(line.strip()) # добавляем строку + удаляем знак перехода на новую строку\n",
    "print(lines)"
   ]
  }
 ],
 "metadata": {
  "colab": {
   "collapsed_sections": [],
   "name": "03_10.ipynb",
   "provenance": []
  },
  "kernelspec": {
   "display_name": "Python 3",
   "language": "python",
   "name": "python3"
  },
  "language_info": {
   "codemirror_mode": {
    "name": "ipython",
    "version": 3
   },
   "file_extension": ".py",
   "mimetype": "text/x-python",
   "name": "python",
   "nbconvert_exporter": "python",
   "pygments_lexer": "ipython3",
   "version": "3.8.5"
  }
 },
 "nbformat": 4,
 "nbformat_minor": 1
}
