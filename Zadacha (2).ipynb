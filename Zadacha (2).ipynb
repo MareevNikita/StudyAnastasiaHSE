{
  "nbformat": 4,
  "nbformat_minor": 0,
  "metadata": {
    "colab": {
      "name": "Untitled11.ipynb",
      "provenance": [],
      "collapsed_sections": []
    },
    "kernelspec": {
      "name": "python3",
      "display_name": "Python 3"
    },
    "language_info": {
      "name": "python"
    }
  },
  "cells": [
    {
      "cell_type": "markdown",
      "metadata": {
        "id": "DR0vU6zo6bml"
      },
      "source": [
        "**ЗАДАЧА**\n",
        "\n",
        "\n",
        "\n"
      ]
    },
    {
      "cell_type": "markdown",
      "metadata": {
        "id": "n7o2uY9y6SuB"
      },
      "source": [
        "Последовательность состоит из чисел и завершается числом 0. Определите значение наибольшего по модулю элемента последовательности."
      ]
    },
    {
      "cell_type": "markdown",
      "metadata": {
        "id": "eq0xRwHq6iym"
      },
      "source": [
        "**Справка**"
      ]
    },
    {
      "cell_type": "markdown",
      "metadata": {
        "id": "vD2sWZiD6lpz"
      },
      "source": [
        "*Модулем (или абсолютной величиной) числа называется величина, равная ему, если оно неотрицательное, и равная противоположному к нему, если число отрицательное*"
      ]
    },
    {
      "cell_type": "code",
      "metadata": {
        "id": "GDnSAycN6rvh"
      },
      "source": [
        "Maxx = \n",
        "while (...):\n",
        "  ...\n",
        "  ...\n",
        "  "
      ],
      "execution_count": null,
      "outputs": []
    },
    {
      "cell_type": "markdown",
      "metadata": {
        "id": "XDaAhz8x63xR"
      },
      "source": [
        "Подсказка: Модуль числа можно найти при помощи функции abs(x)"
      ]
    },
    {
      "cell_type": "code",
      "metadata": {
        "id": "hSHkQ8T568qF"
      },
      "source": [
        "Можно написать функцию самому:\n",
        "def Maximum(...):\n",
        "  if (...):\n",
        "    return(...)\n",
        "  else:\n",
        "    return(...)"
      ],
      "execution_count": null,
      "outputs": []
    },
    {
      "cell_type": "markdown",
      "metadata": {
        "id": "FigAthoR7Vne"
      },
      "source": [
        "Подсказка №2: Функции в питоне пишутся вот так - "
      ]
    },
    {
      "cell_type": "code",
      "metadata": {
        "id": "v1pjsOwc7Z3R"
      },
      "source": [
        "def add(x, y):\n",
        "    return x + y"
      ],
      "execution_count": 1,
      "outputs": []
    },
    {
      "cell_type": "code",
      "metadata": {
        "colab": {
          "base_uri": "https://localhost:8080/"
        },
        "id": "IMUS9qm57g4P",
        "outputId": "9d5dd59c-9137-4f5d-bfef-5402797066b6"
      },
      "source": [
        "add(3,2)"
      ],
      "execution_count": 2,
      "outputs": [
        {
          "output_type": "execute_result",
          "data": {
            "text/plain": [
              "5"
            ]
          },
          "metadata": {},
          "execution_count": 2
        }
      ]
    },
    {
      "cell_type": "code",
      "metadata": {
        "id": "Rz8utdi-7cDh"
      },
      "source": [
        "add(3,-7) = ???"
      ],
      "execution_count": null,
      "outputs": []
    }
  ]
}