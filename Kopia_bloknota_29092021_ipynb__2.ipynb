{
  "nbformat": 4,
  "nbformat_minor": 0,
  "metadata": {
    "colab": {
      "name": "Копия блокнота \"29092021.ipynb\"",
      "provenance": [],
      "collapsed_sections": []
    },
    "kernelspec": {
      "name": "python3",
      "display_name": "Python 3"
    },
    "language_info": {
      "name": "python"
    }
  },
  "cells": [
    {
      "cell_type": "markdown",
      "metadata": {
        "id": "Rk1wJq_Tgiab"
      },
      "source": [
        "# ***Прогресс***\n"
      ]
    },
    {
      "cell_type": "markdown",
      "metadata": {
        "id": "Gu5pTHV2gmTZ"
      },
      "source": [
        "☑ Основные функции\n",
        "\n",
        "☑ Функции для превращения в определенные типы данных\n",
        "\n",
        "☑ Арифметические операции\n",
        "\n",
        "☑ Логические операции\n",
        "\n",
        "☑ Условный оператор\n",
        "\n",
        "☑ Цикл for (Ещё потренироваться, поговорить про красивый вывод в табличку)\n",
        "\n",
        "☑ Операции c последовательностями\n",
        "\n",
        "☑  Срезы (Ещё раз поговорить про отрицательные параметры, [::-1], [-a:-b:+-1])\n",
        "\n",
        "☑ Функции\n",
        "\n",
        "☑ Списки\n",
        ".remove() \n",
        ".count() \n",
        ".index() \n",
        ".extend()  - поговорить про extend\n",
        "\n",
        "❌ Методы строк\n",
        ".split() \n",
        ".join() \n",
        ".find() и .rfind()\n",
        ".lower() \n",
        ".upper() \n",
        ".strip()\n",
        "\n",
        "☑ Множества\n",
        "\n",
        "❌ Словари\n",
        "\n",
        "\n",
        "❌ Работа с файлом"
      ]
    },
    {
      "cell_type": "markdown",
      "metadata": {
        "id": "RBEJv_gvr2lR"
      },
      "source": [
        "# ***Занятие 29.09***"
      ]
    },
    {
      "cell_type": "markdown",
      "metadata": {
        "id": "ZzoBCGWs7qy-"
      },
      "source": [
        "# Разминочная задачка (Похожая на задача 21)\n",
        "Напишите программу, принимающую на вход целое число, которая выводит True, если переданное значение попадает в интервал (−15,12] ∪ (14,17) ∪ [19,+∞) и False в противном случае (регистр символов имеет значение).\n"
      ]
    },
    {
      "cell_type": "markdown",
      "metadata": {
        "id": "haUOsI5G749F"
      },
      "source": [
        "Sample Input 1:\n",
        "\n",
        "20\n",
        "Sample Output 1:\n",
        "\n",
        "True\n",
        "Sample Input 2:\n",
        "\n",
        "-20\n",
        "Sample Output 2:\n",
        "\n",
        "False"
      ]
    },
    {
      "cell_type": "code",
      "metadata": {
        "id": "8k6rEMk98EBo"
      },
      "source": [
        "a = int(input())\n",
        "if (....):\n",
        "    print(...)\n",
        "else:\n",
        "    print(...)"
      ],
      "execution_count": null,
      "outputs": []
    },
    {
      "cell_type": "markdown",
      "metadata": {
        "id": "VQQ-_HUxsAl5"
      },
      "source": [
        "Задача 22"
      ]
    },
    {
      "cell_type": "code",
      "metadata": {
        "id": "8kyYfOgE8C_R"
      },
      "source": [
        "#Про университеты\n",
        "listt = [[1,3,4],[2,4,3],[2,3,4]]"
      ],
      "execution_count": null,
      "outputs": []
    },
    {
      "cell_type": "code",
      "metadata": {
        "id": "YTdeHuU9LbsD"
      },
      "source": [
        "def check_gpa(lst,n):\n",
        "  for mini_lst in lst:\n",
        "    if sum(mini_lst)/len(mini_lst) > n:\n",
        "      final = 'True'\n",
        "    else:\n",
        "      final = 'False'\n",
        "  if final == 'True':\n",
        "    return True\n",
        "  else:\n",
        "    return False"
      ],
      "execution_count": null,
      "outputs": []
    },
    {
      "cell_type": "code",
      "metadata": {
        "colab": {
          "base_uri": "https://localhost:8080/"
        },
        "id": "PYuYsRXeMI_M",
        "outputId": "f2506bf8-0c00-4d9e-8a2b-c4f45f932808"
      },
      "source": [
        "check_gpa(listt, 3)"
      ],
      "execution_count": null,
      "outputs": [
        {
          "output_type": "execute_result",
          "data": {
            "text/plain": [
              "False"
            ]
          },
          "metadata": {},
          "execution_count": 12
        }
      ]
    },
    {
      "cell_type": "code",
      "metadata": {
        "colab": {
          "base_uri": "https://localhost:8080/"
        },
        "id": "ggR66DeDMasw",
        "outputId": "46266e99-f894-4ac1-8a15-67060b6e6829"
      },
      "source": [
        "type(check_gpa(listt, 1))"
      ],
      "execution_count": null,
      "outputs": [
        {
          "output_type": "execute_result",
          "data": {
            "text/plain": [
              "bool"
            ]
          },
          "metadata": {},
          "execution_count": 13
        }
      ]
    },
    {
      "cell_type": "markdown",
      "metadata": {
        "id": "S7sediGgsBOU"
      },
      "source": [
        "Задача 23\n"
      ]
    },
    {
      "cell_type": "markdown",
      "metadata": {
        "id": "Fy20fMfKEyKm"
      },
      "source": [
        "Пример считывания в список"
      ]
    },
    {
      "cell_type": "code",
      "metadata": {
        "colab": {
          "base_uri": "https://localhost:8080/"
        },
        "id": "lASEVDOtE3sT",
        "outputId": "5b51d128-8679-4df6-924d-a32e2ec3adb7"
      },
      "source": [
        "# получим объект файла\n",
        "file1 = open(\"22.txt\", \"r\")\n",
        "Spisok = []\n",
        "while True:\n",
        "    # считываем строку\n",
        "    line = file1.readline()\n",
        "    Spisok.append(line.strip())\n",
        "    # прерываем цикл, если строка пустая\n",
        "    if not line:\n",
        "        break\n",
        "    # выводим строку\n",
        "    print(line.strip())\n",
        "\n",
        "# закрываем файл\n",
        "file1.close\n"
      ],
      "execution_count": null,
      "outputs": [
        {
          "output_type": "stream",
          "name": "stdout",
          "text": [
            "Msk\n",
            "Piter\n",
            "Msk\n",
            "Msk\n",
            "AAA\n"
          ]
        }
      ]
    },
    {
      "cell_type": "code",
      "metadata": {
        "colab": {
          "base_uri": "https://localhost:8080/"
        },
        "id": "bJz42lyAGBvP",
        "outputId": "f87f9831-2b58-464a-d096-2dc971327882"
      },
      "source": [
        "print(Spisok)"
      ],
      "execution_count": null,
      "outputs": [
        {
          "output_type": "stream",
          "name": "stdout",
          "text": [
            "['', 'AAA', 'Msk', 'Msk', 'Msk', 'Piter']\n"
          ]
        }
      ]
    },
    {
      "cell_type": "code",
      "metadata": {
        "colab": {
          "base_uri": "https://localhost:8080/"
        },
        "id": "O5q805eeHiEV",
        "outputId": "60680095-bf12-4d70-ad49-0b9b634caca7"
      },
      "source": [
        "\n",
        "Spisok = sorted(Spisok)\n",
        "maxcount = Spisok.count(Spisok[0])\n",
        "current_count = Spisok.count(Spisok[0])\n",
        "Gorod = Spisok[0]\n",
        "for i in range(1,len(Spisok)):\n",
        "  current_count = Spisok.count(Spisok[i])\n",
        "  if Spisok[i]!=Spisok[i-1]:\n",
        "    if current_count > maxcount:\n",
        "      maxcount = current_count\n",
        "      Gorod = Spisok[i]\n",
        "\n",
        "print(Gorod, maxcount, sep = ' ')"
      ],
      "execution_count": null,
      "outputs": [
        {
          "output_type": "stream",
          "name": "stdout",
          "text": [
            "Msk 3\n"
          ]
        }
      ]
    },
    {
      "cell_type": "markdown",
      "metadata": {
        "id": "JFaWo2VnsG1l"
      },
      "source": [
        "Доделываем сортировку пузырьком в 2 вложенных цикла с вчерашнего занятия"
      ]
    },
    {
      "cell_type": "code",
      "metadata": {
        "colab": {
          "base_uri": "https://localhost:8080/"
        },
        "id": "vD7i0MU4sOqk",
        "outputId": "f20cead0-4da6-422a-fc54-47c566a3ac44"
      },
      "source": [
        "from random import randint\n",
        "N = 10\n",
        "a = []\n",
        "for i in range(N):\n",
        "    a.append(randint(1, 99))\n",
        " \n",
        "print(a)"
      ],
      "execution_count": null,
      "outputs": [
        {
          "output_type": "stream",
          "name": "stdout",
          "text": [
            "[44, 5, 62, 13, 85, 61, 22, 75, 56, 8]\n"
          ]
        }
      ]
    },
    {
      "cell_type": "code",
      "metadata": {
        "id": "Ee2XAlCwrz5d"
      },
      "source": [
        "def bubble(array):\n",
        "    for i in range(N-1):\n",
        "        for j in range(N-i-1):\n",
        "            if array[j] > array[j+1]:\n",
        "                buff = array[j]\n",
        "                array[j] = array[j+1]\n",
        "                array[j+1] = buff\n"
      ],
      "execution_count": null,
      "outputs": []
    },
    {
      "cell_type": "code",
      "metadata": {
        "colab": {
          "base_uri": "https://localhost:8080/"
        },
        "id": "h0spqm7Gsa8y",
        "outputId": "8acca7b6-26d3-491d-e714-38a92b1181b6"
      },
      "source": [
        "#print(bubble(a)) - что выведет? почему? на что похоже?\n",
        "#print(sorted(a)) - почему тут по-другому?\n",
        "#print(a.sort())\n",
        "print(type(a))"
      ],
      "execution_count": null,
      "outputs": [
        {
          "output_type": "stream",
          "name": "stdout",
          "text": [
            "<class 'list'>\n"
          ]
        }
      ]
    },
    {
      "cell_type": "markdown",
      "metadata": {
        "id": "JI46F82ftFZU"
      },
      "source": [
        "# ТУТ a - СПИСОК!!!!"
      ]
    },
    {
      "cell_type": "code",
      "metadata": {
        "id": "Wxr1g92Cs2z7"
      },
      "source": [
        "print(bubble(a))\n",
        "print(sorted(a))\n",
        "print(a.sort())\n",
        "print(a)"
      ],
      "execution_count": null,
      "outputs": []
    },
    {
      "cell_type": "markdown",
      "metadata": {
        "id": "eM_kVTlYtIkd"
      },
      "source": [
        "# ТУТ s - СТРОКА!!!"
      ]
    },
    {
      "cell_type": "code",
      "metadata": {
        "id": "P6WqCx1JtUmU"
      },
      "source": [
        "s = '123412'"
      ],
      "execution_count": null,
      "outputs": []
    },
    {
      "cell_type": "code",
      "metadata": {
        "colab": {
          "base_uri": "https://localhost:8080/"
        },
        "id": "QoGoxPuFtYyb",
        "outputId": "ea266720-aa05-4b87-a2f6-b076b25b3b3d"
      },
      "source": [
        "print(s)\n",
        "print(type(s))"
      ],
      "execution_count": null,
      "outputs": [
        {
          "output_type": "stream",
          "name": "stdout",
          "text": [
            "123412\n",
            "<class 'str'>\n"
          ]
        }
      ]
    },
    {
      "cell_type": "code",
      "metadata": {
        "id": "UHZh_qXutZ73"
      },
      "source": [
        "#print(sorted(s)) - как будет работать функция sorted для строки?\n",
        "#print(s.sort()) - как будет работать метод sort\n"
      ],
      "execution_count": null,
      "outputs": []
    },
    {
      "cell_type": "code",
      "metadata": {
        "id": "bKhD-Xhrui6L"
      },
      "source": [
        "s = '123412'\n",
        "print(type(s))\n",
        "print(type(sorted(s))) #взяли строку - ВЕРНУЛИ список\n",
        "print(s)\n",
        "s = sorted(s) #НЕ изменяем строку, а создаём НОВЫЙ объект - список, с таким же именем s\n",
        "print(s)\n",
        "print(type(s))"
      ],
      "execution_count": null,
      "outputs": []
    },
    {
      "cell_type": "markdown",
      "metadata": {
        "id": "gCSF5beiwwcw"
      },
      "source": [
        "Ещё раз разница!"
      ]
    },
    {
      "cell_type": "code",
      "metadata": {
        "colab": {
          "base_uri": "https://localhost:8080/"
        },
        "id": "PGNcCL9bv7Et",
        "outputId": "9a04e41d-a24a-45ea-afc3-b4717fc30526"
      },
      "source": [
        "X = 'ABCADAE'\n",
        "print(sorted(X,reverse=True))\n",
        "#print(X.sort()) - НЕЛЬЗЯ"
      ],
      "execution_count": null,
      "outputs": [
        {
          "output_type": "stream",
          "name": "stdout",
          "text": [
            "['E', 'D', 'C', 'B', 'A', 'A', 'A']\n"
          ]
        }
      ]
    },
    {
      "cell_type": "code",
      "metadata": {
        "colab": {
          "base_uri": "https://localhost:8080/"
        },
        "id": "9E7BvVYHwLJD",
        "outputId": "01768f75-8712-4586-b6c7-81b551f6384f"
      },
      "source": [
        "Y = ['A','B','C','A','D','A','E']\n",
        "print(sorted(Y,reverse=True))\n",
        "Y = ['A','B','C','A','D','A','E']\n",
        "print(Y)\n",
        "Y.sort(reverse=True)\n",
        "print(Y)"
      ],
      "execution_count": null,
      "outputs": [
        {
          "output_type": "stream",
          "name": "stdout",
          "text": [
            "['E', 'D', 'C', 'B', 'A', 'A', 'A']\n",
            "['A', 'B', 'C', 'A', 'D', 'A', 'E']\n",
            "['E', 'D', 'C', 'B', 'A', 'A', 'A']\n"
          ]
        }
      ]
    },
    {
      "cell_type": "markdown",
      "metadata": {
        "id": "BN3q0MAWuHR7"
      },
      "source": [
        "# Вывод"
      ]
    },
    {
      "cell_type": "markdown",
      "metadata": {
        "id": "b2biw1YNuIxI"
      },
      "source": [
        "X.sort() - метод, который не создает новой коллекции, а меняет уже существующую. \n",
        "Строка не изменяемый тип, поэтому, применяем ТОЛЬКО к списку \n",
        "Функция же sorted(X) НЕ меняет исходную коллекцию, а создает новую с отсортированными элементами"
      ]
    },
    {
      "cell_type": "markdown",
      "metadata": {
        "id": "xfieETHk24d8"
      },
      "source": [
        "# ***Методы строк***"
      ]
    },
    {
      "cell_type": "markdown",
      "metadata": {
        "id": "mYiBCcDi29yC"
      },
      "source": [
        ".split()\n"
      ]
    },
    {
      "cell_type": "markdown",
      "metadata": {
        "id": "dXuh8Keq5Ve_"
      },
      "source": [
        ".split() разбивает строку по пробельным символам (в качестве аргумента можно задать свой разделитель)\n",
        "string.split(separator*, maxsplit*)\n",
        "Параметр separator — необязательный, но он позволяет задать разделитель\n",
        "вручную.\n",
        "Параметр maxsplit определяет максимальное количество разделений. Значение по\n",
        "умолчанию — -1, будут выполнены все разделения."
      ]
    },
    {
      "cell_type": "code",
      "metadata": {
        "id": "A0hpRvmu3aqx"
      },
      "source": [
        "names = 'Olya, Anya, Petya'.split(', ') # разбиваем строку с именами по ', '"
      ],
      "execution_count": null,
      "outputs": []
    },
    {
      "cell_type": "code",
      "metadata": {
        "colab": {
          "base_uri": "https://localhost:8080/"
        },
        "id": "g6izg1WA46xW",
        "outputId": "6293f7fd-da68-4161-f1e6-95b396e3fe9c"
      },
      "source": [
        "print(type('Olya, Anya, Petya')) #Была строка\n",
        "print(type(names)) #Стал список\n",
        "print(names) #Вот такой"
      ],
      "execution_count": null,
      "outputs": [
        {
          "output_type": "stream",
          "name": "stdout",
          "text": [
            "<class 'str'>\n",
            "<class 'list'>\n",
            "['Olya', 'Anya', 'Petya']\n"
          ]
        }
      ]
    },
    {
      "cell_type": "markdown",
      "metadata": {
        "id": "tx8cwfJO5NEv"
      },
      "source": [
        "Разделение сроки по пробелу\n",
        "Если не передать параметр разделителя, то .split() выполнит разделение по пробелу."
      ]
    },
    {
      "cell_type": "code",
      "metadata": {
        "colab": {
          "base_uri": "https://localhost:8080/"
        },
        "id": "LprMG2zk458o",
        "outputId": "285520bd-ffcb-4dfb-9095-fa4b1fd31e8d"
      },
      "source": [
        "my_st = \"Пример строки Python\"\n",
        "print(my_st.split())\n"
      ],
      "execution_count": null,
      "outputs": [
        {
          "output_type": "stream",
          "name": "stdout",
          "text": [
            "['Пример', 'строки', 'Python']\n"
          ]
        }
      ]
    },
    {
      "cell_type": "markdown",
      "metadata": {
        "id": "zG1QCOJt6XOh"
      },
      "source": [
        "Метод str.split() позволяет удалять части строк"
      ]
    },
    {
      "cell_type": "code",
      "metadata": {
        "colab": {
          "base_uri": "https://localhost:8080/"
        },
        "id": "GtF63uB76hgC",
        "outputId": "6f215346-51a6-497a-8e5d-968d2be3ff16"
      },
      "source": [
        "dummy = \"This is a dummy string.\"\n",
        "print(dummy.split(\"s\"))\n",
        "print(dummy.split(\"i\"))"
      ],
      "execution_count": null,
      "outputs": [
        {
          "output_type": "stream",
          "name": "stdout",
          "text": [
            "['Thi', ' i', ' a dummy ', 'tring.']\n",
            "['Th', 's ', 's a dummy str', 'ng.']\n"
          ]
        }
      ]
    },
    {
      "cell_type": "markdown",
      "metadata": {
        "id": "KycaVnTH6pPl"
      },
      "source": [
        "# ВОПРОС "
      ]
    },
    {
      "cell_type": "markdown",
      "metadata": {
        "id": "fE6-MbBV6s0n"
      },
      "source": [
        "Почему так получается??"
      ]
    },
    {
      "cell_type": "markdown",
      "metadata": {
        "id": "8pXTgX706vv2"
      },
      "source": [
        "------------------------------------------------------------------------"
      ]
    },
    {
      "cell_type": "markdown",
      "metadata": {
        "id": "wHpcnsi_5kln"
      },
      "source": [
        "Разделение строк по нескольким разделителям\n",
        "В Python можно использовать даже несколько разделителей. Для этого просто требуется передать несколько символов в качестве разделителей функции split.\n",
        "\n",
        "Возьмем в качестве примера ситуацию, где разделителями выступают одновременно : и ,. Задействуем функцию re.split()"
      ]
    },
    {
      "cell_type": "code",
      "metadata": {
        "colab": {
          "base_uri": "https://localhost:8080/"
        },
        "id": "cqtS3cHu5mHf",
        "outputId": "63583d09-5c2a-48b8-d4cd-63bd921d7ed5"
      },
      "source": [
        "import re #Подключаем модуль регулярных выражений. Регулярные выражения — специальная последовательность \n",
        "#символов, которая помогает сопоставлять или находить строки \n",
        "#python с использованием специализированного синтаксиса, содержащегося в шаблоне\n",
        "\n",
        "my_st = \"Я\\nучу; язык,программирования\\nPython\"\n",
        "print(re.split(\";|,|\\n\", my_st))"
      ],
      "execution_count": null,
      "outputs": [
        {
          "output_type": "stream",
          "name": "stdout",
          "text": [
            "['Я', 'учу', ' язык', 'программирования', 'Python']\n"
          ]
        }
      ]
    },
    {
      "cell_type": "markdown",
      "metadata": {
        "id": "IejeM7Wv3Anl"
      },
      "source": [
        " .join()"
      ]
    },
    {
      "cell_type": "markdown",
      "metadata": {
        "id": "LKP1LEgi5wqO"
      },
      "source": [
        "Метод str.join(string) собирает строку string с разделителем str."
      ]
    },
    {
      "cell_type": "code",
      "metadata": {
        "id": "BABKvAhZ3CHf"
      },
      "source": [
        "dummy = \"This is a dummy string.\""
      ],
      "execution_count": null,
      "outputs": []
    },
    {
      "cell_type": "code",
      "metadata": {
        "colab": {
          "base_uri": "https://localhost:8080/"
        },
        "id": "Qjs_ENR450Tq",
        "outputId": "b80d2b28-fc91-4d7e-b00b-a7f8d16523c0"
      },
      "source": [
        "print(\" \".join(dummy))"
      ],
      "execution_count": null,
      "outputs": [
        {
          "output_type": "stream",
          "name": "stdout",
          "text": [
            "T h i s   i s   a   d u m m y   s t r i n g .\n"
          ]
        }
      ]
    },
    {
      "cell_type": "markdown",
      "metadata": {
        "id": "FLeQixTs5_xk"
      },
      "source": [
        "Собирает из списка обратно строку!\n"
      ]
    },
    {
      "cell_type": "code",
      "metadata": {
        "colab": {
          "base_uri": "https://localhost:8080/"
        },
        "id": "lGwF2u5N6Cx_",
        "outputId": "df97a984-7c1c-45f6-b96a-eb02a324304d"
      },
      "source": [
        "print(\",\".join([\"8host\", \"blog\", \"hosting\"]))"
      ],
      "execution_count": null,
      "outputs": [
        {
          "output_type": "stream",
          "name": "stdout",
          "text": [
            "8host,blog,hosting\n"
          ]
        }
      ]
    },
    {
      "cell_type": "code",
      "metadata": {
        "colab": {
          "base_uri": "https://localhost:8080/"
        },
        "id": "fjBLYqWg6FaU",
        "outputId": "920d8e7e-ddcf-4860-efe1-8eff9cf44506"
      },
      "source": [
        "print(type([\"8host\", \"blog\", \"hosting\"]))\n",
        "print(type(\",\".join([\"8host\", \"blog\", \"hosting\"])))\n"
      ],
      "execution_count": null,
      "outputs": [
        {
          "output_type": "stream",
          "name": "stdout",
          "text": [
            "<class 'list'>\n",
            "<class 'str'>\n"
          ]
        }
      ]
    },
    {
      "cell_type": "markdown",
      "metadata": {
        "id": "ZTTUWi-43CbF"
      },
      "source": [
        " .find()"
      ]
    },
    {
      "cell_type": "markdown",
      "metadata": {
        "id": "bEKD2LG58ym-"
      },
      "source": [
        "Метод str.find() возвращает индекс первого совпадения подстроки sub в строке str, где подстрока или символ sub находится в пределах среза str[start:end]"
      ]
    },
    {
      "cell_type": "code",
      "metadata": {
        "colab": {
          "base_uri": "https://localhost:8080/"
        },
        "id": "dJn0hNyJ8zy9",
        "outputId": "e1313fa1-0dc0-414a-a7f1-a7b1679ce01c"
      },
      "source": [
        "x = 'раз два три раз два три раз'\n",
        "x.find('раз')"
      ],
      "execution_count": null,
      "outputs": [
        {
          "output_type": "execute_result",
          "data": {
            "text/plain": [
              "0"
            ]
          },
          "metadata": {},
          "execution_count": 18
        }
      ]
    },
    {
      "cell_type": "code",
      "metadata": {
        "colab": {
          "base_uri": "https://localhost:8080/"
        },
        "id": "ON83axZP9FUw",
        "outputId": "0ac6b141-bc9a-42b6-a5c9-512670542419"
      },
      "source": [
        "type(x)"
      ],
      "execution_count": null,
      "outputs": [
        {
          "output_type": "execute_result",
          "data": {
            "text/plain": [
              "str"
            ]
          },
          "metadata": {},
          "execution_count": 20
        }
      ]
    },
    {
      "cell_type": "code",
      "metadata": {
        "colab": {
          "base_uri": "https://localhost:8080/"
        },
        "id": "WD-vBi-T9HgP",
        "outputId": "6c08dd05-c9dd-46f7-a3dc-55f978d55044"
      },
      "source": [
        "len(x)"
      ],
      "execution_count": null,
      "outputs": [
        {
          "output_type": "execute_result",
          "data": {
            "text/plain": [
              "27"
            ]
          },
          "metadata": {},
          "execution_count": 21
        }
      ]
    },
    {
      "cell_type": "code",
      "metadata": {
        "colab": {
          "base_uri": "https://localhost:8080/"
        },
        "id": "HMBfGZ948-42",
        "outputId": "5d7f958c-4807-41f7-da73-bf08c0330b08"
      },
      "source": [
        "x.find('раз', 10, 23)"
      ],
      "execution_count": null,
      "outputs": [
        {
          "output_type": "execute_result",
          "data": {
            "text/plain": [
              "12"
            ]
          },
          "metadata": {},
          "execution_count": 19
        }
      ]
    },
    {
      "cell_type": "markdown",
      "metadata": {
        "id": "NYJFR3XZ9L45"
      },
      "source": [
        "Почему так?"
      ]
    },
    {
      "cell_type": "code",
      "metadata": {
        "id": "IDCDLUlB9ReF"
      },
      "source": [
        "x.find('четыре')"
      ],
      "execution_count": null,
      "outputs": []
    },
    {
      "cell_type": "markdown",
      "metadata": {
        "id": "kAQaSxRc9SaV"
      },
      "source": [
        "Что выведет?"
      ]
    },
    {
      "cell_type": "markdown",
      "metadata": {
        "id": "paOWRv7u3Dpr"
      },
      "source": [
        ".rfind()\n"
      ]
    },
    {
      "cell_type": "markdown",
      "metadata": {
        "id": "FmCLDwpR9ZTK"
      },
      "source": [
        "![image.png](data:image/png;base64,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)"
      ]
    },
    {
      "cell_type": "markdown",
      "metadata": {
        "id": "2OYYblmJ3JHz"
      },
      "source": [
        ".strip()"
      ]
    },
    {
      "cell_type": "markdown",
      "metadata": {
        "id": "UK4Y4cEE9mDu"
      },
      "source": [
        "Удаляет начальные и конечные символы в строке.\n",
        "Синтаксис:\n",
        "str.strip([chars])\n",
        "Параметры:\n",
        "chars - строка, набор удаляемых символов.\n",
        "Возвращаемое значение:\n",
        "измененная копия строки."
      ]
    },
    {
      "cell_type": "markdown",
      "metadata": {
        "id": "_oMfeHz79s5D"
      },
      "source": [
        "Метод str.strip() вернет копию строки str с удаленными начальными и конечными символами chars. Другими словами, обрежет строку str с обоих концов"
      ]
    },
    {
      "cell_type": "code",
      "metadata": {
        "colab": {
          "base_uri": "https://localhost:8080/",
          "height": 35
        },
        "id": "KxEAdimw3J44",
        "outputId": "4c7b0e57-586c-4150-abb9-f0cfdf09a235"
      },
      "source": [
        "'   stroka   '.strip()\n",
        "\n"
      ],
      "execution_count": null,
      "outputs": [
        {
          "output_type": "execute_result",
          "data": {
            "application/vnd.google.colaboratory.intrinsic+json": {
              "type": "string"
            },
            "text/plain": [
              "'stroka'"
            ]
          },
          "metadata": {},
          "execution_count": 23
        }
      ]
    },
    {
      "cell_type": "code",
      "metadata": {
        "colab": {
          "base_uri": "https://localhost:8080/"
        },
        "id": "i0_F5Vq_9ytj",
        "outputId": "49820528-b223-405b-e26d-d610769ff47a"
      },
      "source": [
        "a = '111 OGO 111'\n",
        "print(a)\n",
        "print(a.strip('111'))"
      ],
      "execution_count": null,
      "outputs": [
        {
          "output_type": "stream",
          "name": "stdout",
          "text": [
            "111 OGO 111\n",
            " OGO \n"
          ]
        }
      ]
    },
    {
      "cell_type": "markdown",
      "metadata": {
        "id": "NqH17d2J-EWO"
      },
      "source": [
        "Чему равно len(a.strip('111'))?? (не 3)"
      ]
    },
    {
      "cell_type": "code",
      "metadata": {
        "colab": {
          "base_uri": "https://localhost:8080/",
          "height": 35
        },
        "id": "_uA39VgM99IO",
        "outputId": "ca26e65e-b72e-454c-fa15-911a028b17d2"
      },
      "source": [
        "'www.example.com'.strip('cmowz.')"
      ],
      "execution_count": null,
      "outputs": [
        {
          "output_type": "execute_result",
          "data": {
            "application/vnd.google.colaboratory.intrinsic+json": {
              "type": "string"
            },
            "text/plain": [
              "'example'"
            ]
          },
          "metadata": {},
          "execution_count": 30
        }
      ]
    },
    {
      "cell_type": "markdown",
      "metadata": {
        "id": "ferpXnHJ-oM8"
      },
      "source": [
        "# Множества\n"
      ]
    },
    {
      "cell_type": "code",
      "metadata": {
        "colab": {
          "base_uri": "https://localhost:8080/"
        },
        "id": "K0XdZJUK-p94",
        "outputId": "11d57e6a-a97b-44f0-bc4d-73538e41e637"
      },
      "source": [
        "my_pets_list = {'кошка', 'рыбка', 'шиншилла', 'ужик'}\n",
        "friend_pets_list = {'собака', 'питон', 'ужик', 'кошка', 'хамелеон'}\n",
        "\n",
        "# объединение -- элементы, которые входят хотя бы в одно множество\n",
        "print(my_pets_list | friend_pets_list) \n",
        "\n",
        "# пересечение -- элементы, которые входят в оба множества\n",
        "print(my_pets_list & friend_pets_list) \n",
        "\n",
        "# разность: входят в my_pets_list, но не входят в  friend_pets_list\n",
        "print(my_pets_list - friend_pets_list) \n",
        "\n",
        "# разность: входят в friend_pets_list, но не входят в my_pets_list\n",
        "print(friend_pets_list - my_pets_list) \n",
        "\n",
        "# симметрическая разность: входят в одно из множества, но не в оба сразу\n",
        "print(my_pets_list ^ friend_pets_list) "
      ],
      "execution_count": null,
      "outputs": [
        {
          "output_type": "stream",
          "name": "stdout",
          "text": [
            "{'рыбка', 'шиншилла', 'кошка', 'хамелеон', 'собака', 'питон', 'ужик'}\n",
            "{'ужик', 'кошка'}\n",
            "{'рыбка', 'шиншилла'}\n",
            "{'хамелеон', 'собака', 'питон'}\n",
            "{'рыбка', 'шиншилла', 'хамелеон', 'собака', 'питон'}\n"
          ]
        }
      ]
    },
    {
      "cell_type": "markdown",
      "metadata": {
        "id": "dRIchij--12C"
      },
      "source": [
        "# Словари"
      ]
    },
    {
      "cell_type": "markdown",
      "metadata": {
        "id": "gQ0_gIp4-_OC"
      },
      "source": [
        "Словарь (dict) — одна из структур, которая хранит данные в формате пар ключ-значение. Получить доступ к значениям словаря Python можно с помощью ключей."
      ]
    },
    {
      "cell_type": "markdown",
      "metadata": {
        "id": "y7y2NHsc_Hg_"
      },
      "source": [
        "Важно!!\n",
        "Данные, представляющие собой ключ словаря, должны быть уникальны внутри множества ключей этого словаря. Проще говоря, **не должно быть двух одинаковых ключей**;\n",
        "\n",
        "**Ключ должен быть объектом неизменяемого типа**, то есть строкой, числом или кортежем. Если говорить строже, то объект содержащий ключ должен быть hashable. То есть иметь хеш-значение, которое не меняется в течение его жизненного цикла;\n",
        "\n",
        "**На значения нет никаких ограничений**. Максимальный уровень свободы. Они не обязаны быть ни уникальными, ни неизменяемыми, поэтому могут себе позволить быть какими угодно."
      ]
    },
    {
      "cell_type": "code",
      "metadata": {
        "colab": {
          "base_uri": "https://localhost:8080/"
        },
        "id": "UR7inN9A-wMY",
        "outputId": "af45ea3a-e221-4c5e-9ac3-83e8bb590dfd"
      },
      "source": [
        "eng_rus = {'apple': 'яблоко', 'hello': 'привет', 'world': 'мир'}\n",
        "\n",
        "print(eng_rus['apple']) # обращаемся к значению \"яблоко\" по его ключу - apple\n",
        "eng_rus['hello'] = 'здравствуйте' # перезаписываем значение ключа\n",
        "print(eng_rus) # печатаем измененный словарь\n",
        "del eng_rus['world'] # удаляем пару ключ:значение\n",
        "print(eng_rus) # печатаем измененный словарь\n",
        "eng_rus['python'] = 'питон' # создаем новую пару ключ-значение\n",
        "print(eng_rus) # печатаем измененный словарь"
      ],
      "execution_count": null,
      "outputs": [
        {
          "output_type": "stream",
          "name": "stdout",
          "text": [
            "яблоко\n",
            "{'apple': 'яблоко', 'hello': 'здравствуйте', 'world': 'мир'}\n",
            "{'apple': 'яблоко', 'hello': 'здравствуйте'}\n",
            "{'apple': 'яблоко', 'hello': 'здравствуйте', 'python': 'питон'}\n"
          ]
        }
      ]
    },
    {
      "cell_type": "code",
      "metadata": {
        "id": "zPhey63E_a0s"
      },
      "source": [
        "Методы словарей в Python\n",
        "Перечислим основные словарные методы, которые помогут вам при работе с этим типом данных.\n",
        "\n",
        "clear() – очищает заданный словарь, приводя его к пустому.\n",
        "get() – отдаёт значение словаря по указанному ключу. Если ключ не существует, а в качестве дополнительного аргумента передано значение по умолчанию, то метод вернет его. Если же значение по умолчанию опущено, метод вернет None.\n",
        "items() – возвращает словарные пары ключ:значение, как соответствующие им кортежи.\n",
        "keys() – возвращает ключи словаря, организованные в виде списка.\n",
        "values() – подобным образом, возвращает список значений словаря.\n",
        "pop() – удалит запись словаря по ключу и вернет её значение.\n",
        "popitem() – выбрасывает пару ключ:значение из словаря и возвращает её в качестве кортежа. Такие пары возвращаются в порядке LIFO.\n",
        "update() – реализует своеобразную операцию конкатенации для словарей. Он объединяет ключи и значения одного словаря с ключами и значениями другого. При этом если какие-то ключи совпадут, то результирующим значением станет значение словаря, указанного в качестве аргумента метода update.\n",
        "copy() – создает полную копию исходного словаря."
      ],
      "execution_count": null,
      "outputs": []
    },
    {
      "cell_type": "code",
      "metadata": {
        "id": "-fd24LQ5-6Lg"
      },
      "source": [
        "#Примеры"
      ],
      "execution_count": null,
      "outputs": []
    },
    {
      "cell_type": "code",
      "metadata": {
        "colab": {
          "base_uri": "https://localhost:8080/"
        },
        "id": "lzAdMt55_gzd",
        "outputId": "13c59603-e07f-4296-86b6-b3a229ccf512"
      },
      "source": [
        "# clear()\n",
        "farewell_dict = {'a': 'word', 'b': 3, 'c': 'x', 'd': 1, 'e': 12}\n",
        "farewell_dict.clear()\n",
        "print(farewell_dict)\n",
        "\n",
        "# get()\n",
        "seasons = {'winter': 'cold', 'summer': 'hot', 'autumn': 'cold'}\n",
        "print(seasons.get('winter', 'Такого ключа в словаре нет'))\n",
        "\n",
        "\n",
        "seasons_2 = {'spring': 'warm'}\n",
        "print(seasons_2.get('nonexistent_key', 'Этот ключ отсутствует'))\n",
        "\n",
        "\n",
        "seasons_3 = {'winter': 'surprice_warm'}\n",
        "print(seasons_3.get('nonexistent_key'))\n",
        "\n",
        "# items()\n",
        "pairs_dict = {'41': 41, '42': 42, '43': 43}\n",
        "print(pairs_dict.items())\n",
        "\n",
        "# keys()\n",
        "promo_dict = {'modelA': 100000, 'modelB': 300000, 'modelC': 120000}\n",
        "print(promo_dict.keys())\n",
        "\n",
        "# values()\n",
        "palette = {'color1': 'red', 'color2': 'white', 'color3': 'purple'}\n",
        "print(palette.values())\n",
        "\n",
        "# pop()\n",
        "id_dict = {'Alex': 101546, 'Rachel': 116453, 'Johanna': 144172}\n",
        "print(id_dict.pop('Alex'))\n",
        "print(id_dict)\n",
        "\n",
        "# popitem()\n",
        "another_dict = {'t': 16, 'g': 53, 'y': 112, 'h': 23}\n",
        "print(another_dict.popitem())\n",
        "print(another_dict)\n",
        "\n",
        "# update()\n",
        "first_dictionary = {'p': 55, 'o': 44, 'i': 33}\n",
        "second_dictionary = {'l': 22, 'k': 11, 'p': 'changed'}\n",
        "first_dictionary.update(second_dictionary)\n",
        "print(first_dictionary)\n",
        "\n",
        "# copy()\n",
        "some_dict = {'z': 1, 'x': 3, 'v': 12, 'n': 33}\n",
        "copy_dict = some_dict.copy()\n",
        "print(copy_dict)"
      ],
      "execution_count": null,
      "outputs": [
        {
          "output_type": "stream",
          "name": "stdout",
          "text": [
            "{}\n",
            "cold\n",
            "Этот ключ отсутствует\n",
            "None\n",
            "dict_items([('41', 41), ('42', 42), ('43', 43)])\n",
            "dict_keys(['modelA', 'modelB', 'modelC'])\n",
            "dict_values(['red', 'white', 'purple'])\n",
            "101546\n",
            "{'Rachel': 116453, 'Johanna': 144172}\n",
            "('h', 23)\n",
            "{'t': 16, 'g': 53, 'y': 112}\n",
            "{'p': 'changed', 'o': 44, 'i': 33, 'l': 22, 'k': 11}\n",
            "{'z': 1, 'x': 3, 'v': 12, 'n': 33}\n"
          ]
        }
      ]
    },
    {
      "cell_type": "code",
      "metadata": {
        "colab": {
          "base_uri": "https://localhost:8080/"
        },
        "id": "sP-bK9KXAOmP",
        "outputId": "53968f77-e046-45ea-f267-59677782477f"
      },
      "source": [
        "numbers = [5,7,30]\n",
        "print(f'Минимум списка {numbers}: {min(numbers)}')\n",
        "print(f'Максимум списка {numbers}: {max(numbers)}')\n",
        "print(f'Сумма списка {numbers}: {sum(numbers)}')"
      ],
      "execution_count": null,
      "outputs": [
        {
          "output_type": "stream",
          "name": "stdout",
          "text": [
            "Минимум списка [5, 7, 30]: 5\n",
            "Максимум списка [5, 7, 30]: 30\n",
            "Сумма списка [5, 7, 30]: 42\n"
          ]
        }
      ]
    },
    {
      "cell_type": "code",
      "metadata": {
        "colab": {
          "base_uri": "https://localhost:8080/"
        },
        "id": "CaBKIaj9AT_V",
        "outputId": "7396c9b0-c1b2-4fa3-f4f7-c62fa9d50220"
      },
      "source": [
        "fruits = ['apple', 'Яблоко', 'Апельсин', 'Orange', 'манго']\n",
        "print(sorted(fruits)) # сортировка строк без ключа (регистр не игнорируется)\n",
        "print(sorted(fruits, key=str.lower)) # сортировка строк с ключом (регистр игнорируется)"
      ],
      "execution_count": null,
      "outputs": [
        {
          "output_type": "stream",
          "name": "stdout",
          "text": [
            "['Orange', 'apple', 'Апельсин', 'Яблоко', 'манго']\n",
            "['apple', 'Orange', 'Апельсин', 'манго', 'Яблоко']\n"
          ]
        }
      ]
    },
    {
      "cell_type": "markdown",
      "metadata": {
        "id": "amdKzm16_11Q"
      },
      "source": [
        "# Задача\n"
      ]
    },
    {
      "cell_type": "markdown",
      "metadata": {
        "id": "fRK2wIkE_5rS"
      },
      "source": [
        "посчитаем. сколько раз каждая буква встречается в тексте\n",
        "\n",
        "\n",
        "twister = 'two toads terribly tired trotted along the road said toad number one to the toad number two'\n"
      ]
    },
    {
      "cell_type": "code",
      "metadata": {
        "colab": {
          "base_uri": "https://localhost:8080/"
        },
        "id": "EDAomjmB_7bw",
        "outputId": "18e4bdb6-841b-4f70-8e15-b83f597ce878"
      },
      "source": [
        "twister = 'two toads terribly tired trotted along the road said toad number one to the toad number two'\n",
        "letters = ''.join(twister.split()) # избавляемся от пробелов\n",
        "stats = {} # создаем пустой словарь для подсчета\n",
        "for l in letters:\n",
        "    if l not in stats:\n",
        "        stats[l] = 1\n",
        "    else:\n",
        "        stats[l] += 1\n",
        "        \n",
        "print(stats) "
      ],
      "execution_count": null,
      "outputs": [
        {
          "output_type": "stream",
          "name": "stdout",
          "text": [
            "{'t': 13, 'w': 2, 'o': 10, 'a': 6, 'd': 7, 's': 2, 'e': 8, 'r': 7, 'i': 3, 'b': 3, 'l': 2, 'y': 1, 'n': 4, 'g': 1, 'h': 2, 'u': 2, 'm': 2}\n"
          ]
        }
      ]
    },
    {
      "cell_type": "markdown",
      "metadata": {
        "id": "GoNKAWI8AdIa"
      },
      "source": [
        "# Работа с файлом"
      ]
    },
    {
      "cell_type": "code",
      "metadata": {
        "colab": {
          "base_uri": "https://localhost:8080/",
          "height": 235
        },
        "id": "LXIxX6xNAlZD",
        "outputId": "cd06e319-61c7-4520-f6d4-fca8dd832356"
      },
      "source": [
        "# считываем текст из файла в строку, способ 2\n",
        "\n",
        "with open('text_file.txt', encoding='UTF-8') as infile:\n",
        "    text = infile.read()\n",
        "\n",
        "print(text)"
      ],
      "execution_count": null,
      "outputs": [
        {
          "output_type": "error",
          "ename": "FileNotFoundError",
          "evalue": "ignored",
          "traceback": [
            "\u001b[0;31m---------------------------------------------------------------------------\u001b[0m",
            "\u001b[0;31mFileNotFoundError\u001b[0m                         Traceback (most recent call last)",
            "\u001b[0;32m<ipython-input-42-d0ca6c2bd804>\u001b[0m in \u001b[0;36m<module>\u001b[0;34m()\u001b[0m\n\u001b[1;32m      1\u001b[0m \u001b[0;31m# считываем текст из файла в строку, способ 2\u001b[0m\u001b[0;34m\u001b[0m\u001b[0;34m\u001b[0m\u001b[0;34m\u001b[0m\u001b[0m\n\u001b[1;32m      2\u001b[0m \u001b[0;34m\u001b[0m\u001b[0m\n\u001b[0;32m----> 3\u001b[0;31m \u001b[0;32mwith\u001b[0m \u001b[0mopen\u001b[0m\u001b[0;34m(\u001b[0m\u001b[0;34m'text_file.txt'\u001b[0m\u001b[0;34m,\u001b[0m \u001b[0mencoding\u001b[0m\u001b[0;34m=\u001b[0m\u001b[0;34m'UTF-8'\u001b[0m\u001b[0;34m)\u001b[0m \u001b[0;32mas\u001b[0m \u001b[0minfile\u001b[0m\u001b[0;34m:\u001b[0m\u001b[0;34m\u001b[0m\u001b[0;34m\u001b[0m\u001b[0m\n\u001b[0m\u001b[1;32m      4\u001b[0m     \u001b[0mtext\u001b[0m \u001b[0;34m=\u001b[0m \u001b[0minfile\u001b[0m\u001b[0;34m.\u001b[0m\u001b[0mread\u001b[0m\u001b[0;34m(\u001b[0m\u001b[0;34m)\u001b[0m\u001b[0;34m\u001b[0m\u001b[0;34m\u001b[0m\u001b[0m\n\u001b[1;32m      5\u001b[0m \u001b[0;34m\u001b[0m\u001b[0m\n",
            "\u001b[0;31mFileNotFoundError\u001b[0m: [Errno 2] No such file or directory: 'text_file.txt'"
          ]
        }
      ]
    },
    {
      "cell_type": "code",
      "metadata": {
        "colab": {
          "base_uri": "https://localhost:8080/",
          "height": 235
        },
        "id": "uxZKZPh5Any1",
        "outputId": "e1f32131-22d1-49ab-ebe9-8a2214e7c970"
      },
      "source": [
        "# считываем строки из файла в список, способ 2\n",
        "\n",
        "lines = [] # создаем пустой список\n",
        "with open('text_file.txt', encoding='UTF-8') as infile:\n",
        "    lines = infile.readlines()\n",
        "\n",
        "# обратите внимание, в этом способе сохранился знак перехода на новую строку \n",
        "# и надо будет его почистить позже, если это важно для задачи    \n",
        "print(lines) "
      ],
      "execution_count": null,
      "outputs": [
        {
          "output_type": "error",
          "ename": "FileNotFoundError",
          "evalue": "ignored",
          "traceback": [
            "\u001b[0;31m---------------------------------------------------------------------------\u001b[0m",
            "\u001b[0;31mFileNotFoundError\u001b[0m                         Traceback (most recent call last)",
            "\u001b[0;32m<ipython-input-43-68cdc4f62b21>\u001b[0m in \u001b[0;36m<module>\u001b[0;34m()\u001b[0m\n\u001b[1;32m      2\u001b[0m \u001b[0;34m\u001b[0m\u001b[0m\n\u001b[1;32m      3\u001b[0m \u001b[0mlines\u001b[0m \u001b[0;34m=\u001b[0m \u001b[0;34m[\u001b[0m\u001b[0;34m]\u001b[0m \u001b[0;31m# создаем пустой список\u001b[0m\u001b[0;34m\u001b[0m\u001b[0;34m\u001b[0m\u001b[0m\n\u001b[0;32m----> 4\u001b[0;31m \u001b[0;32mwith\u001b[0m \u001b[0mopen\u001b[0m\u001b[0;34m(\u001b[0m\u001b[0;34m'text_file.txt'\u001b[0m\u001b[0;34m,\u001b[0m \u001b[0mencoding\u001b[0m\u001b[0;34m=\u001b[0m\u001b[0;34m'UTF-8'\u001b[0m\u001b[0;34m)\u001b[0m \u001b[0;32mas\u001b[0m \u001b[0minfile\u001b[0m\u001b[0;34m:\u001b[0m\u001b[0;34m\u001b[0m\u001b[0;34m\u001b[0m\u001b[0m\n\u001b[0m\u001b[1;32m      5\u001b[0m     \u001b[0mlines\u001b[0m \u001b[0;34m=\u001b[0m \u001b[0minfile\u001b[0m\u001b[0;34m.\u001b[0m\u001b[0mreadlines\u001b[0m\u001b[0;34m(\u001b[0m\u001b[0;34m)\u001b[0m\u001b[0;34m\u001b[0m\u001b[0;34m\u001b[0m\u001b[0m\n\u001b[1;32m      6\u001b[0m \u001b[0;34m\u001b[0m\u001b[0m\n",
            "\u001b[0;31mFileNotFoundError\u001b[0m: [Errno 2] No such file or directory: 'text_file.txt'"
          ]
        }
      ]
    },
    {
      "cell_type": "code",
      "metadata": {
        "id": "lriVOdo5At0e"
      },
      "source": [
        "# запись в файл -- создается новый файл (или затирается старый с таким же именем) и записываются данные\n",
        "\n",
        "important_text = 'Это очень важный текст. В нем даже несколько строк. \\nОни отделены переносом строки.'\n",
        "with open('info.txt', 'w', encoding='UTF-8') as outfile:    # открываем файл, указываем, что это файл для записи: 'w', можем явно указать кодировку\n",
        "    print(important_text, file=outfile)"
      ],
      "execution_count": null,
      "outputs": []
    },
    {
      "cell_type": "code",
      "metadata": {
        "id": "f4mvgtkqAuLB"
      },
      "source": [
        "# дозапись в файл -- открывается существующий файл и в его конец дозаписывается текст\n",
        "\n",
        "important_text_3 = 'Это третий важный текст. Надеемся, что он запишется после второго'\n",
        "with open('info.txt', 'a', encoding='UTF-8') as outfile: # открываем тот же файл, указываем, что это файл для ДОзаписи: 'a' (append)\n",
        "    print(important_text_3, file=outfile) "
      ],
      "execution_count": null,
      "outputs": []
    },
    {
      "cell_type": "code",
      "metadata": {
        "id": "TOpQZEbvAv2C"
      },
      "source": [
        ""
      ],
      "execution_count": null,
      "outputs": []
    }
  ]
}